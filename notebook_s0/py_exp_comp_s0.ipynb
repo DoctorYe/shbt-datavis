{
 "cells": [
  {
   "cell_type": "markdown",
   "metadata": {},
   "source": [
    "# Exploratory Computing with Python\n",
    "\n",
    "## Statistics Notebook 0: Why study statistics"
   ]
  },
  {
   "cell_type": "markdown",
   "metadata": {},
   "source": [
    "> [Statistics](http://en.wikipedia.org/wiki/Statistics) is the study of the collection, organization, analysis, interpretation, and presentation of data."
   ]
  },
  {
   "cell_type": "markdown",
   "metadata": {},
   "source": [
    "## Why do we care about statistics?\n",
    "\n",
    "1. Describe observations\n",
    "    - There are 6 students in this class\n",
    "    - The peak number of people taking the T towards Alewife from Kendall was at 8:29am\n",
    "    - Over the last 10 Congresses, the majority party in the Senate has occupied 52, 55, 55, 50, 51, 55, 49, 57, 51 and 53 seats\n",
    "    \n",
    "2. Create models and make estimates\n",
    "    - How many students will be in this class next year?\n",
    "    - When will the number of people peak on the same route tomorrow?\n",
    "    - How many seats will the majority in the Senate have in the next Congress?\n",
    "    \n",
    "3. Provide a measure of error/confidence\n",
    "    - 6 $\\pm1$ students\n",
    "    - Between 7.45am and 8.45am\n",
    "    - 95% confident that the majority party will have between 50 and 55 seats"
   ]
  },
  {
   "cell_type": "markdown",
   "metadata": {},
   "source": [
    "## Samples and Populations\n",
    "\n",
    "A *statistical population* is a set of entities concerning which statistical inferences are to be drawn.\n",
    "\n",
    "> e.g., stars, polar bears, tweets, genes, cells, humans, voxels, etc.,.\n",
    "\n",
    "Typically, observations are from *random samples* are chosen from a subset of the population.\n",
    "\n",
    "> e.g. students and professional subjects around cambridge, cells from a body, a time series, etc.,.\n",
    "\n",
    "This data can then be subjected to statistical analysis, serving two related purposes: *description* and *inference*."
   ]
  },
  {
   "cell_type": "markdown",
   "metadata": {},
   "source": [
    "## Descriptive and inferential statistics\n",
    "\n",
    "**Descriptive** statistics summarize the population data by describing what was observed in the sample numerically or graphically. \n",
    "\n",
    "> e.g., Mean and standard deviation for continuous data types (like heights or weights), while frequency and percentage are more useful in terms of describing categorical data (like race).\n",
    "\n",
    "**Inferential** statistics uses patterns in the sample data to draw inferences about the population represented, accounting for randomness. \n",
    "\n",
    "> e.g., answering yes/no questions about the data (hypothesis testing), estimating numerical characteristics of the data (estimation), describing associations within the data (correlation) and modeling relationships within the data (for example, using regression analysis). \n",
    "\n",
    "Inference can extend to forecasting, prediction and estimation of unobserved values either in or associated with the population being studied; it can include extrapolation and interpolation of time series or spatial data, and can also include data mining."
   ]
  },
  {
   "cell_type": "code",
   "execution_count": null,
   "metadata": {
    "collapsed": false
   },
   "outputs": [],
   "source": []
  }
 ],
 "metadata": {
  "kernelspec": {
   "display_name": "Python 2",
   "language": "python",
   "name": "python2"
  },
  "language_info": {
   "codemirror_mode": {
    "name": "ipython",
    "version": 2
   },
   "file_extension": ".py",
   "mimetype": "text/x-python",
   "name": "python",
   "nbconvert_exporter": "python",
   "pygments_lexer": "ipython2",
   "version": "2.7.12"
  }
 },
 "nbformat": 4,
 "nbformat_minor": 0
}
