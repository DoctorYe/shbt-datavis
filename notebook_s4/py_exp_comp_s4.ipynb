{
 "metadata": {
  "name": "",
  "signature": "sha256:d4395de7538fc13ae1872e1196d6bab5fcbb37517f3ab2f9bff17c5d0bdf2408"
 },
 "nbformat": 3,
 "nbformat_minor": 0,
 "worksheets": [
  {
   "cells": [
    {
     "cell_type": "markdown",
     "metadata": {},
     "source": [
      "# Exploratory Computing with Python\n",
      "\n",
      "## Statistics Notebook 4: More visualization and hypothesis testing"
     ]
    },
    {
     "cell_type": "markdown",
     "metadata": {},
     "source": [
      "In this notebook we will visualize the dataset further and do some hypothesis testing"
     ]
    },
    {
     "cell_type": "code",
     "collapsed": false,
     "input": [
      "import IPython.html.widgets as widgets\n",
      "from IPython.html.widgets import interact, interactive, fixed\n",
      "from IPython.core.display import Image\n",
      "\n",
      "import numpy as np\n",
      "#import seaborn as sns\n",
      "\n",
      "import matplotlib.pyplot as plt\n",
      "%matplotlib inline\n",
      "\n",
      "import mpld3\n",
      "mpld3.enable_notebook()\n",
      "\n",
      "def axvline(val, **kwargs):\n",
      "    ax = plt.gca()\n",
      "    ylim = ax.get_ylim()\n",
      "    return plt.plot([val, val], ylim, **kwargs)\n",
      "\n",
      "plt.axvline = axvline"
     ],
     "language": "python",
     "metadata": {},
     "outputs": []
    },
    {
     "cell_type": "code",
     "collapsed": false,
     "input": [
      "%load_ext rmagic"
     ],
     "language": "python",
     "metadata": {},
     "outputs": []
    },
    {
     "cell_type": "code",
     "collapsed": false,
     "input": [
      "from mpld3 import plugins, utils\n",
      "\n",
      "import pandas as pd\n",
      "data = pd.read_table('../data/verified_pb.data', names=['gender', 'speaker', 'pid', 'phoneme', 'F0', 'F1', 'F2', 'F3'])\n",
      "\n",
      "selector = data.pid == 1\n",
      "X = data.ix[selector, ['F0', 'F1', 'F2', 'F3']].values\n",
      "y = data.gender[selector].values\n",
      "\n",
      "# dither the data for clearer plotting\n",
      "X += 0.1 * np.random.random(X.shape)\n",
      "\n",
      "fig, ax = plt.subplots(4, 4, sharex=\"col\", sharey=\"row\", figsize=(8, 8))\n",
      "fig.subplots_adjust(left=0.05, right=0.95, bottom=0.05, top=0.95,\n",
      "                    hspace=0.1, wspace=0.1)\n",
      "\n",
      "for i in range(4):\n",
      "    for j in range(4):\n",
      "        points = ax[3 - i, j].scatter(X[:, j], X[:, i],\n",
      "                                      c=y, s=40, alpha=0.6)\n",
      "\n",
      "# remove tick labels\n",
      "for axi in ax.flat:\n",
      "    for axis in [axi.xaxis, axi.yaxis]:\n",
      "        axis.set_major_formatter(plt.NullFormatter())\n",
      "\n",
      "# Here we connect the linked brush plugin\n",
      "plugins.connect(fig, plugins.LinkedBrush(points))\n",
      "plugins.connect(fig, plugins.MousePosition(fontsize=14))"
     ],
     "language": "python",
     "metadata": {},
     "outputs": []
    },
    {
     "cell_type": "markdown",
     "metadata": {},
     "source": [
      "### Exercise 1. <a name=\"back1\"></a>Select and display subsets of data.\n",
      "\n",
      "Based on the above example, now display the different acoustic properties by color for male speakers or the properties of speaker number 1."
     ]
    },
    {
     "cell_type": "code",
     "collapsed": false,
     "input": [],
     "language": "python",
     "metadata": {},
     "outputs": []
    },
    {
     "cell_type": "markdown",
     "metadata": {},
     "source": [
      "<a href=\"#ex1answer\">Answers to Exercise 1</a>"
     ]
    },
    {
     "cell_type": "markdown",
     "metadata": {},
     "source": [
      "### Correlations\n",
      "\n",
      "- mostly descriptive statistics \n",
      "- very often we want to know the relationship between two variables\n",
      "\n",
      "    e.g. how are college grades related to aptitude test scores?\n",
      "\n",
      "***Correlation:*** A statistical technique for determining the degree to which two variables are related or covary.\n",
      "\n",
      "Pearson Product Moment Correlation ($r$)"
     ]
    },
    {
     "cell_type": "code",
     "collapsed": false,
     "input": [
      "import seaborn as sns\n",
      "sns.set(style=\"ticks\")\n",
      "\n",
      "df = sns.load_dataset(\"anscombe\")\n",
      "for i in np.unique(df.dataset):\n",
      "    print('Dataset %s r=%.2f' % (i, np.corrcoef(df[df.dataset==i].x, df[df.dataset==i].y)[0, 1]))"
     ],
     "language": "python",
     "metadata": {},
     "outputs": []
    },
    {
     "cell_type": "code",
     "collapsed": false,
     "input": [
      "ph = sns.lmplot(\"x\", \"y\", col=\"dataset\", hue=\"dataset\", data=df,\n",
      "           col_wrap=2, ci=None, palette=\"muted\", size=4,\n",
      "           scatter_kws={\"s\": 50, \"alpha\": 0.6})"
     ],
     "language": "python",
     "metadata": {},
     "outputs": []
    },
    {
     "cell_type": "code",
     "collapsed": false,
     "input": [
      "Image(url='http://upload.wikimedia.org/wikipedia/commons/thumb/d/d4/Correlation_examples2.svg/500px-Correlation_examples2.svg.png',\n",
      "      width=1000)"
     ],
     "language": "python",
     "metadata": {},
     "outputs": []
    },
    {
     "cell_type": "markdown",
     "metadata": {},
     "source": [
      "### Exercise 2: <a name=\"back2\"></a>Find the relations between the acoustic measures.\n",
      "\n",
      "Determine the correlation coefficient between F0, F1, F2, and F3 for a given vowel and gender. Display the marginal distributions of the relations with the highest correlations."
     ]
    },
    {
     "cell_type": "code",
     "collapsed": false,
     "input": [],
     "language": "python",
     "metadata": {},
     "outputs": []
    },
    {
     "cell_type": "markdown",
     "metadata": {},
     "source": [
      "<a href=\"#ex2answer\">Answers to Exercise 2</a>"
     ]
    },
    {
     "cell_type": "markdown",
     "metadata": {},
     "source": [
      "### Exercise 3: <a name=\"back3\"></a>How well can we predict the vowel being spoken?\n",
      "\n",
      "Create a model that tries to determine what vowel is being spoken"
     ]
    },
    {
     "cell_type": "code",
     "collapsed": false,
     "input": [],
     "language": "python",
     "metadata": {},
     "outputs": []
    },
    {
     "cell_type": "markdown",
     "metadata": {},
     "source": [
      "<a href=\"#ex3answer\">Answers to Exercise 3</a>"
     ]
    },
    {
     "cell_type": "markdown",
     "metadata": {},
     "source": [
      "###Answers to the exercises"
     ]
    },
    {
     "cell_type": "markdown",
     "metadata": {},
     "source": [
      "<a name=\"ex1answer\">Answers to Exercise 1</a>"
     ]
    },
    {
     "cell_type": "code",
     "collapsed": false,
     "input": [
      "from mpld3 import plugins, utils\n",
      "\n",
      "import pandas as pd\n",
      "data = pd.read_table('../data/verified_pb.data', names=['gender', 'speaker', 'pid', 'phoneme', 'F0', 'F1', 'F2', 'F3'])\n",
      "\n",
      "selector = data.gender == 1 \n",
      "selector = data.speaker == 1\n",
      "X = data.ix[selector, ['F0', 'F1', 'F2', 'F3']].values\n",
      "y = data.pid[selector].values\n",
      "\n",
      "# dither the data for clearer plotting\n",
      "X += 0.1 * np.random.random(X.shape)\n",
      "\n",
      "fig, ax = plt.subplots(4, 4, sharex=\"col\", sharey=\"row\", figsize=(8, 8))\n",
      "fig.subplots_adjust(left=0.05, right=0.95, bottom=0.05, top=0.95,\n",
      "                    hspace=0.1, wspace=0.1)\n",
      "\n",
      "for i in range(4):\n",
      "    for j in range(4):\n",
      "        points = ax[3 - i, j].scatter(X[:, j], X[:, i],\n",
      "                                      c=y, s=40, alpha=0.6)\n",
      "\n",
      "# remove tick labels\n",
      "for axi in ax.flat:\n",
      "    for axis in [axi.xaxis, axi.yaxis]:\n",
      "        axis.set_major_formatter(plt.NullFormatter())\n",
      "\n",
      "# Here we connect the linked brush plugin\n",
      "plugins.connect(fig, plugins.LinkedBrush(points))\n",
      "plugins.connect(fig, plugins.MousePosition(fontsize=14))"
     ],
     "language": "python",
     "metadata": {},
     "outputs": []
    },
    {
     "cell_type": "markdown",
     "metadata": {},
     "source": [
      "<a href=\"#back1\">Back to Exercise 1</a>\n",
      "\n",
      "<a name=\"ex2answer\">Answers to Exercise 2</a>"
     ]
    },
    {
     "cell_type": "code",
     "collapsed": false,
     "input": [
      "data_subset = data[data.gender == 1][data.pid == 1][::2].ix[:, ['F0', 'F1', 'F2', 'F3']]\n",
      "ax = sns.corrplot(data_subset, annot=True, sig_stars=True, diag_names=True)\n",
      "ax.set_xticks([])\n",
      "ax.set_yticks([])\n",
      "#plt.figure()\n",
      "color = sns.color_palette()[2]\n",
      "g = sns.jointplot(\"F0\", \"F1\", data=data_subset, kind=\"reg\",\n",
      "                  color=color, size=5)\n",
      "g = sns.jointplot(\"F1\", \"F2\", data=data_subset, kind=\"reg\",\n",
      "                  color=color, size=5)"
     ],
     "language": "python",
     "metadata": {},
     "outputs": []
    },
    {
     "cell_type": "markdown",
     "metadata": {},
     "source": [
      "<a href=\"#back2\">Back to Exercise 2</a>\n",
      "\n",
      "<a name=\"ex3answer\">Answers to Exercise 3</a>"
     ]
    },
    {
     "cell_type": "code",
     "collapsed": false,
     "input": [
      "import statsmodels.api as sm\n",
      "from patsy import dmatrices\n",
      "data2 = data[::2]\n",
      "data2.gender = data.gender.apply(lambda x : ['M', 'F', 'C'][x - 1])\n",
      "data2.pid = data.pid.apply(lambda x : ['i', 'I', 'e', 'ae', '^', 'a', 'o', 'U', 'u', '3'][x - 1])\n",
      "data2.speaker = data.speaker.apply(lambda x : 'S%02d' % x)\n",
      "print data2.head()\n",
      "y, X = dmatrices('F0 ~ gender + pid', data=data2, return_type='dataframe')\n",
      "mod = sm.OLS(y, X) \n",
      "res = mod.fit() \n",
      "print res.summary()"
     ],
     "language": "python",
     "metadata": {},
     "outputs": []
    },
    {
     "cell_type": "markdown",
     "metadata": {},
     "source": [
      "<a href=\"#back3\">Back to Exercise 3</a>\n",
      "\n",
      "<a name=\"ex4answer\">Answers to Exercise 4</a>"
     ]
    },
    {
     "cell_type": "code",
     "collapsed": false,
     "input": [],
     "language": "python",
     "metadata": {},
     "outputs": []
    }
   ],
   "metadata": {}
  }
 ]
}